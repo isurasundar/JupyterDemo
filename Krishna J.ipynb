{
 "cells": [
  {
   "cell_type": "code",
   "execution_count": 1,
   "metadata": {
    "collapsed": false
   },
   "outputs": [
    {
     "name": "stdout",
     "output_type": "stream",
     "text": [
      "    A  B  C  D  E  F  G\n",
      "0   8  3  6  2  8  4  3\n",
      "1   9  6  2  5  7  4  3\n",
      "2   5  8  1  9  0  5  3\n",
      "3   4  0  3  8  8  7  5\n",
      "4   9  8  5  3  7  0  4\n",
      "5   5  5  6  2  9  3  2\n",
      "6   6  1  2  0  3  2  3\n",
      "7   4  1  4  1  3  6  5\n",
      "8   3  8  9  9  9  5  0\n",
      "9   7  3  2  5  7  9  3\n",
      "10  7  9  5  3  2  1  4\n",
      "11  5  0  0  3  9  9  7\n",
      "12  2  1  7  5  3  6  3\n",
      "13  2  3  1  3  9  0  5\n",
      "14  4  6  4  1  2  7  4\n",
      "15  4  5  6  3  5  8  7\n",
      "16  0  1  5  3  8  7  0\n",
      "17  9  4  0  6  4  4  4\n",
      "18  6  2  9  9  9  3  3\n",
      "19  5  7  4  2  7  7  0\n",
      "20  4  0  8  9  0  0  7\n",
      "21  7  0  0  4  0  8  1\n",
      "22  8  5  2  2  4  2  9\n",
      "23  2  4  3  3  0  4  2\n",
      "24  8  7  5  3  0  5  6\n",
      "25  1  7  9  8  5  1  5\n",
      "26  8  9  6  8  9  3  1\n",
      "27  5  2  2  7  8  3  5\n",
      "28  6  6  7  9  0  7  2\n",
      "29  1  5  9  9  0  9  4\n",
      ".. .. .. .. .. .. .. ..\n",
      "70  0  4  9  7  2  3  6\n",
      "71  7  9  0  5  3  4  0\n",
      "72  1  4  7  9  9  6  9\n",
      "73  3  3  9  8  9  4  1\n",
      "74  5  9  9  7  5  1  2\n",
      "75  5  0  0  6  0  1  1\n",
      "76  2  5  4  6  2  0  4\n",
      "77  9  9  2  9  7  3  0\n",
      "78  4  8  6  1  9  5  3\n",
      "79  9  2  0  9  1  1  7\n",
      "80  0  5  1  3  8  1  4\n",
      "81  0  9  0  2  2  7  0\n",
      "82  5  1  1  5  0  1  7\n",
      "83  6  5  8  0  7  6  7\n",
      "84  3  8  4  1  2  6  3\n",
      "85  1  3  3  5  2  8  8\n",
      "86  7  1  3  4  3  2  6\n",
      "87  7  8  0  5  8  8  2\n",
      "88  3  7  0  1  3  2  5\n",
      "89  5  1  8  8  5  8  7\n",
      "90  2  9  7  2  5  1  9\n",
      "91  7  0  1  9  6  6  7\n",
      "92  0  4  3  8  0  4  3\n",
      "93  4  0  3  5  3  0  8\n",
      "94  9  5  5  6  7  2  1\n",
      "95  1  0  6  4  1  0  6\n",
      "96  1  4  6  9  1  8  8\n",
      "97  0  4  4  6  1  7  0\n",
      "98  0  3  8  2  1  1  5\n",
      "99  1  5  9  4  9  5  9\n",
      "\n",
      "[100 rows x 7 columns]\n"
     ]
    }
   ],
   "source": [
    "import pandas as pd\n",
    "import numpy as np\n",
    "#df= DataFrame()\n",
    "df = pd.DataFrame(np.random.randint(low=0, high=10, size=(100, 7)), columns=['A', 'B', 'C', 'D', 'E', 'F', 'G'])\n",
    "print(df)"
   ]
  },
  {
   "cell_type": "code",
   "execution_count": 2,
   "metadata": {
    "collapsed": false
   },
   "outputs": [
    {
     "name": "stdout",
     "output_type": "stream",
     "text": [
      "    A  B  C  H  E  F  G\n",
      "0   8  3  6  2  8  4  3\n",
      "1   9  6  2  5  7  4  3\n",
      "2   5  8  1  9  0  5  3\n",
      "3   4  0  3  8  8  7  5\n",
      "4   9  8  5  3  7  0  4\n",
      "5   5  5  6  2  9  3  2\n",
      "6   6  1  2  0  3  2  3\n",
      "7   4  1  4  1  3  6  5\n",
      "8   3  8  9  9  9  5  0\n",
      "9   7  3  2  5  7  9  3\n",
      "10  7  9  5  3  2  1  4\n",
      "11  5  0  0  3  9  9  7\n",
      "12  2  1  7  5  3  6  3\n",
      "13  2  3  1  3  9  0  5\n",
      "14  4  6  4  1  2  7  4\n",
      "15  4  5  6  3  5  8  7\n",
      "16  0  1  5  3  8  7  0\n",
      "17  9  4  0  6  4  4  4\n",
      "18  6  2  9  9  9  3  3\n",
      "19  5  7  4  2  7  7  0\n",
      "20  4  0  8  9  0  0  7\n",
      "21  7  0  0  4  0  8  1\n",
      "22  8  5  2  2  4  2  9\n",
      "23  2  4  3  3  0  4  2\n",
      "24  8  7  5  3  0  5  6\n",
      "25  1  7  9  8  5  1  5\n",
      "26  8  9  6  8  9  3  1\n",
      "27  5  2  2  7  8  3  5\n",
      "28  6  6  7  9  0  7  2\n",
      "29  1  5  9  9  0  9  4\n",
      ".. .. .. .. .. .. .. ..\n",
      "70  0  4  9  7  2  3  6\n",
      "71  7  9  0  5  3  4  0\n",
      "72  1  4  7  9  9  6  9\n",
      "73  3  3  9  8  9  4  1\n",
      "74  5  9  9  7  5  1  2\n",
      "75  5  0  0  6  0  1  1\n",
      "76  2  5  4  6  2  0  4\n",
      "77  9  9  2  9  7  3  0\n",
      "78  4  8  6  1  9  5  3\n",
      "79  9  2  0  9  1  1  7\n",
      "80  0  5  1  3  8  1  4\n",
      "81  0  9  0  2  2  7  0\n",
      "82  5  1  1  5  0  1  7\n",
      "83  6  5  8  0  7  6  7\n",
      "84  3  8  4  1  2  6  3\n",
      "85  1  3  3  5  2  8  8\n",
      "86  7  1  3  4  3  2  6\n",
      "87  7  8  0  5  8  8  2\n",
      "88  3  7  0  1  3  2  5\n",
      "89  5  1  8  8  5  8  7\n",
      "90  2  9  7  2  5  1  9\n",
      "91  7  0  1  9  6  6  7\n",
      "92  0  4  3  8  0  4  3\n",
      "93  4  0  3  5  3  0  8\n",
      "94  9  5  5  6  7  2  1\n",
      "95  1  0  6  4  1  0  6\n",
      "96  1  4  6  9  1  8  8\n",
      "97  0  4  4  6  1  7  0\n",
      "98  0  3  8  2  1  1  5\n",
      "99  1  5  9  4  9  5  9\n",
      "\n",
      "[100 rows x 7 columns]\n"
     ]
    }
   ],
   "source": [
    "df= df.rename(index=str, columns={\"D\": \"H\"})\n",
    "print(df)"
   ]
  },
  {
   "cell_type": "code",
   "execution_count": 3,
   "metadata": {
    "collapsed": true
   },
   "outputs": [],
   "source": [
    "sLength = len(df['A'])\n",
    "temp= df['A']*df['B']-df['C']\n",
    "\n",
    "df = pd.concat([df, temp], axis=1)\n",
    "df= df.rename(columns={0: \"I\"})\n"
   ]
  },
  {
   "cell_type": "code",
   "execution_count": 8,
   "metadata": {
    "collapsed": false,
    "scrolled": true
   },
   "outputs": [
    {
     "data": {
      "text/plain": [
       "FrozenList([None])"
      ]
     },
     "execution_count": 8,
     "metadata": {},
     "output_type": "execute_result"
    }
   ],
   "source": []
  },
  {
   "cell_type": "code",
   "execution_count": 5,
   "metadata": {
    "collapsed": false
   },
   "outputs": [
    {
     "name": "stdout",
     "output_type": "stream",
     "text": [
      "Plot 1\n"
     ]
    },
    {
     "data": {
      "text/plain": [
       "Text(0,0.5,'Y Axis')"
      ]
     },
     "execution_count": 5,
     "metadata": {},
     "output_type": "execute_result"
    }
   ],
   "source": [
    "import matplotlib.pyplot as plt\n",
    "from mpl_toolkits.mplot3d import Axes3D\n",
    "from sklearn import datasets\n",
    "from sklearn.datasets import load_iris\n",
    "iris = datasets.load_iris()\n",
    "X = iris.data[:, :2]  \n",
    "y = iris.target\n",
    "plt.scatter(X[:, 0], X[:, 1], c=y, cmap=plt.cm.Set1,edgecolor='k')\n",
    "print(\"Plot 1\")\n",
    "plt.xlabel(\"X Axis\")\n",
    "plt.ylabel(\"Y Axis\")"
   ]
  },
  {
   "cell_type": "code",
   "execution_count": 6,
   "metadata": {
    "collapsed": false
   },
   "outputs": [
    {
     "name": "stdout",
     "output_type": "stream",
     "text": [
      "Plot 2\n"
     ]
    },
    {
     "data": {
      "text/plain": [
       "Text(0,0.5,'Y Axis')"
      ]
     },
     "execution_count": 6,
     "metadata": {},
     "output_type": "execute_result"
    }
   ],
   "source": [
    "print(\"Plot 2\")\n",
    "plt.plot(X, y, color='green', marker='o', linestyle='dashed',linewidth=2, markersize=12)\n",
    "plt.xlabel(\"X Axis\")\n",
    "plt.ylabel(\"Y Axis\")"
   ]
  }
 ],
 "metadata": {
  "kernelspec": {
   "display_name": "Python 3",
   "language": "python",
   "name": "python3"
  },
  "language_info": {
   "codemirror_mode": {
    "name": "ipython",
    "version": 3
   },
   "file_extension": ".py",
   "mimetype": "text/x-python",
   "name": "python",
   "nbconvert_exporter": "python",
   "pygments_lexer": "ipython3",
   "version": "3.6.6"
  }
 },
 "nbformat": 4,
 "nbformat_minor": 2
}
